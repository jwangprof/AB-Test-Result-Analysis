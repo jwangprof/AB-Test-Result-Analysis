{
 "cells": [
  {
   "cell_type": "markdown",
   "id": "477e9d28",
   "metadata": {
    "papermill": {
     "duration": 0.016698,
     "end_time": "2024-05-28T17:36:31.027858",
     "exception": false,
     "start_time": "2024-05-28T17:36:31.011160",
     "status": "completed"
    },
    "tags": []
   },
   "source": [
    "# Introduction\n",
    "The objective of this project is cover the process of analyzing results of an A/B test conducted to compare the performance of an old website design (Version A) against a new, redesigned version (Version B). The goal of this test is to determine which design leads to higher conversion rates, which is our primary success metric.\n",
    "\n",
    "## Dataset\n",
    "\n",
    "- **user_id:** unique user id\n",
    "- **timestamp:** timestamp of the record\n",
    "- **group:** control vs. treatment\n",
    "- **landing_page:** old page vs. new page\n",
    "- **converted:** 0 vs. 1\n",
    "\n",
    "## Project Overview\n",
    "\n",
    "1. **Designing Experiment**\n",
    "2. **Collect and Prepare Data**\n",
    "3. **EDA and Visualize A/B Comparison Results** \n",
    "4. **Statistical Analysis** \n",
    "5. **Conclusion:** "
   ]
  },
  {
   "cell_type": "markdown",
   "id": "cdae94ca-d1a7-48f0-bdf6-557277347e85",
   "metadata": {},
   "source": [
    "***\n",
    "## 1. Designing Experiment"
   ]
  },
  {
   "cell_type": "markdown",
   "id": "33dbfeec-feea-4965-9e3e-e1d4320e92c5",
   "metadata": {},
   "source": [
    "### 1.1 Formulating a hypothesis\n",
    "**Success Metric**: Conversion rate\n",
    "##### **Null Hypothesis (H₀)**\n",
    "The null hypothesis assumes that there is **no difference** in the **conversion rates** between the old design (Version A) and the new design (Version B). Any observed difference in conversion rates between the two designs is due to random chance.\n",
    "- **H₀**: p = p_0\n",
    "- **H₀**: Conversion rate of Version A = Conversion rate of Version B\n",
    "\n",
    "##### **Alternative Hypothesis (H₁)**\n",
    "The alternative hypothesis assumes that there is a **significant difference** between the **conversion rates** of the two designs, and that the new design (Version B) will lead to a higher conversion rate compared to the old design (Version A).\n",
    "- **H₁**:p ≠ p_0 \n",
    "- **H₁**: Conversion rate of Version A ≠ Conversion rate of Version B\n",
    "\n",
    "#### **Testing and Analysis Approach**\n",
    "The significance level $\\alpha$ value is set to $\\alpha=0.05$, which we accept there is a 5% chance that the result is insignificant, or that it just happened by chance alone. Since our $\\alpha=0.05$ (indicating 5% probability), our confidence (1 - $\\alpha$) is 95%.\n",
    "\n",
    "If the p-value is less than 0.05, we can reject the null hypothesis and conclude that the new website design (Version B) significantly improves conversion rates.\n",
    "\n",
    "---\n",
    "\n"
   ]
  },
  {
   "cell_type": "markdown",
   "id": "860b5b24-47e9-4e1d-95be-214590f6ad6b",
   "metadata": {},
   "source": [
    "### 1.2 Define Variables\n",
    "\n",
    "Since the `group` and `landing_page` are essentially linked (control group = old page, treatment group = new page), they can be used as one **independent variable** representing the experimental condition.\n",
    "\n",
    "#### 1. **Independent Variable**:\n",
    "- **Group** (or **Landing Page**): This is the independent variable because it represents the condition in the A/B test, where users are either in the control group (seeing the old landing page) or in the treatment group (seeing the new landing page). Since the `group` and `landing_page` are tied together, you can use either to represent the experimental condition.\n",
    "\n",
    "#### 2. **Dependent Variable**:\n",
    "- **Converted**: This is the dependent variable because it shows whether the user converted (1) or did not convert (0). The conversion rate is what you are measuring to see the impact of the different pages (groups).\n",
    "\n",
    "---\n",
    "\n",
    "### Summary:\n",
    "- **Independent Variable**: `group` (control = old page, treatment = new page).\n",
    "- **Dependent Variable**: `converted` (0 for no conversion, 1 for conversion)."
   ]
  },
  {
   "cell_type": "markdown",
   "id": "0bea7056-a2c0-4f5c-b7f7-cc24e83a103a",
   "metadata": {},
   "source": [
    "### 1.3 Determine Required Sample Size\n",
    "\n",
    "#### Steps to Determine Sample Size\n",
    "\n",
    "1. **Define the Baseline Conversion Rate**: What is the current conversion rate of the control group?\n",
    "\n",
    "2. **Choose the Minimum Detectable Effect**: Decide the smallest meaningful difference you want to detect between the control and treatment groups.\n",
    "\n",
    "3. **Set the Statistical Power and Significance Level**: Typically, power is set to 80% (0.8) and significance level to 5% (0.05).\n",
    "\n",
    "4. **Use a Sample Size Calculator**: Based on these inputs, use a statistical tool or sample size calculator (like the one in Python below) to compute the required sample size.\n",
    "\n",
    "#### Example:\n",
    "\n",
    "- **Baseline Conversion Rate**: 10%,  assume current conversion rate of the control group\n",
    "- **Minimum Detectable Effect**: 2% (from 10% to 12%), and if the conversion rate improved by at least 2% then it is counted as meaningful\n",
    "- **Power**: Typically, power is set to 80% (0.8) and significance level to 5% (0.05).\n",
    "- **Significance Level (α)**: 0.05 (5%)\n",
    "\n",
    "Having set the `power` parameter to 0.8 in practice means that if there exists an actual difference in conversion rate between our designs, assuming the difference is what we estimated (10% vs. 12%), we have about 80% chance to detect it as statistically significant in our test with the sample size we calculated.\n"
   ]
  },
  {
   "cell_type": "code",
   "execution_count": 6,
   "id": "95ba5d4c-9ee0-4c6e-9681-11c71d7b025f",
   "metadata": {},
   "outputs": [
    {
     "name": "stdout",
     "output_type": "stream",
     "text": [
      "Required sample size per group: 3532\n"
     ]
    }
   ],
   "source": [
    "import math\n",
    "from statsmodels.stats.power import NormalIndPower\n",
    "\n",
    "# Set parameters\n",
    "baseline_conversion_rate = 0.10  # 10% conversion rate for control group\n",
    "minimum_detectable_effect = 0.02  # 2% improvement in conversion rate\n",
    "alpha = 0.05  # Significance level\n",
    "power = 0.8   # 80% power\n",
    "\n",
    "# Calculate effect size\n",
    "effect_size = minimum_detectable_effect / math.sqrt(baseline_conversion_rate * (1 - baseline_conversion_rate))\n",
    "\n",
    "# Perform the sample size calculation\n",
    "sample_size = NormalIndPower().solve_power(effect_size, power=power, alpha=alpha, ratio=1)\n",
    "print(f\"Required sample size per group: {math.ceil(sample_size)}\")"
   ]
  },
  {
   "cell_type": "markdown",
   "id": "2112fc95-1f71-4c09-8e72-feb283b4f9fc",
   "metadata": {},
   "source": [
    "We'd need **at least 3532 observations for each group**. "
   ]
  },
  {
   "cell_type": "markdown",
   "id": "d8acb7a4",
   "metadata": {
    "papermill": {
     "duration": 0.015519,
     "end_time": "2024-05-28T17:36:31.060175",
     "exception": false,
     "start_time": "2024-05-28T17:36:31.044656",
     "status": "completed"
    },
    "tags": []
   },
   "source": [
    "## 2. Collect and Prepare Data"
   ]
  },
  {
   "cell_type": "code",
   "execution_count": 9,
   "id": "c51dccbf",
   "metadata": {
    "_cell_guid": "b1076dfc-b9ad-4769-8c92-a6c4dae69d19",
    "_uuid": "8f2839f25d086af736a60e9eeb907d3b93b6e0e5",
    "papermill": {
     "duration": 2.701432,
     "end_time": "2024-05-28T17:36:33.777550",
     "exception": false,
     "start_time": "2024-05-28T17:36:31.076118",
     "status": "completed"
    },
    "tags": []
   },
   "outputs": [],
   "source": [
    "import numpy as np\n",
    "import pandas as pd \n",
    "import matplotlib.pyplot as plt\n",
    "import seaborn as sns\n",
    "from scipy import stats\n",
    "import warnings\n",
    "warnings.filterwarnings('ignore')"
   ]
  },
  {
   "cell_type": "code",
   "execution_count": 10,
   "id": "26750b60-2d12-447e-bcbb-bdd2d2228bd1",
   "metadata": {},
   "outputs": [
    {
     "name": "stdout",
     "output_type": "stream",
     "text": [
      "Number of raw records: 294478\n"
     ]
    },
    {
     "data": {
      "text/html": [
       "<div>\n",
       "<style scoped>\n",
       "    .dataframe tbody tr th:only-of-type {\n",
       "        vertical-align: middle;\n",
       "    }\n",
       "\n",
       "    .dataframe tbody tr th {\n",
       "        vertical-align: top;\n",
       "    }\n",
       "\n",
       "    .dataframe thead th {\n",
       "        text-align: right;\n",
       "    }\n",
       "</style>\n",
       "<table border=\"1\" class=\"dataframe\">\n",
       "  <thead>\n",
       "    <tr style=\"text-align: right;\">\n",
       "      <th></th>\n",
       "      <th>user_id</th>\n",
       "      <th>timestamp</th>\n",
       "      <th>group</th>\n",
       "      <th>landing_page</th>\n",
       "      <th>converted</th>\n",
       "    </tr>\n",
       "  </thead>\n",
       "  <tbody>\n",
       "    <tr>\n",
       "      <th>0</th>\n",
       "      <td>851104</td>\n",
       "      <td>2017-01-21 22:11:48.556739</td>\n",
       "      <td>control</td>\n",
       "      <td>old_page</td>\n",
       "      <td>0</td>\n",
       "    </tr>\n",
       "    <tr>\n",
       "      <th>1</th>\n",
       "      <td>804228</td>\n",
       "      <td>2017-01-12 08:01:45.159739</td>\n",
       "      <td>control</td>\n",
       "      <td>old_page</td>\n",
       "      <td>0</td>\n",
       "    </tr>\n",
       "    <tr>\n",
       "      <th>2</th>\n",
       "      <td>661590</td>\n",
       "      <td>2017-01-11 16:55:06.154213</td>\n",
       "      <td>treatment</td>\n",
       "      <td>new_page</td>\n",
       "      <td>0</td>\n",
       "    </tr>\n",
       "    <tr>\n",
       "      <th>3</th>\n",
       "      <td>853541</td>\n",
       "      <td>2017-01-08 18:28:03.143765</td>\n",
       "      <td>treatment</td>\n",
       "      <td>new_page</td>\n",
       "      <td>0</td>\n",
       "    </tr>\n",
       "    <tr>\n",
       "      <th>4</th>\n",
       "      <td>864975</td>\n",
       "      <td>2017-01-21 01:52:26.210827</td>\n",
       "      <td>control</td>\n",
       "      <td>old_page</td>\n",
       "      <td>1</td>\n",
       "    </tr>\n",
       "  </tbody>\n",
       "</table>\n",
       "</div>"
      ],
      "text/plain": [
       "   user_id                   timestamp      group landing_page  converted\n",
       "0   851104  2017-01-21 22:11:48.556739    control     old_page          0\n",
       "1   804228  2017-01-12 08:01:45.159739    control     old_page          0\n",
       "2   661590  2017-01-11 16:55:06.154213  treatment     new_page          0\n",
       "3   853541  2017-01-08 18:28:03.143765  treatment     new_page          0\n",
       "4   864975  2017-01-21 01:52:26.210827    control     old_page          1"
      ]
     },
     "execution_count": 10,
     "metadata": {},
     "output_type": "execute_result"
    }
   ],
   "source": [
    "import zipfile\n",
    "\n",
    "# Define the zip file and extraction directory\n",
    "zip_file_path = 'ab_data.csv.zip'\n",
    "extracted_dir = 'ab_data'\n",
    "\n",
    "# Open and extract the zip file\n",
    "with zipfile.ZipFile(zip_file_path, 'r') as zip_ref:\n",
    "    zip_ref.extractall(extracted_dir)\n",
    "\n",
    "# Load the extracted CSV file into a pandas DataFrame\n",
    "csv_file_path = f'{extracted_dir}/ab_data.csv'\n",
    "raw_data = pd.read_csv(csv_file_path)\n",
    "\n",
    "# Print the number of records\n",
    "print(f\"Number of raw records: {len(raw_data)}\")\n",
    "\n",
    "# Display the first few rows of the data\n",
    "raw_data.head()"
   ]
  },
  {
   "cell_type": "code",
   "execution_count": 11,
   "id": "07cb8181-2f23-4078-be76-fe03b5722a82",
   "metadata": {},
   "outputs": [
    {
     "name": "stdout",
     "output_type": "stream",
     "text": [
      "<class 'pandas.core.frame.DataFrame'>\n",
      "RangeIndex: 294478 entries, 0 to 294477\n",
      "Data columns (total 5 columns):\n",
      " #   Column        Non-Null Count   Dtype \n",
      "---  ------        --------------   ----- \n",
      " 0   user_id       294478 non-null  int64 \n",
      " 1   timestamp     294478 non-null  object\n",
      " 2   group         294478 non-null  object\n",
      " 3   landing_page  294478 non-null  object\n",
      " 4   converted     294478 non-null  int64 \n",
      "dtypes: int64(2), object(3)\n",
      "memory usage: 11.2+ MB\n"
     ]
    }
   ],
   "source": [
    "raw_data.info()"
   ]
  },
  {
   "cell_type": "markdown",
   "id": "b58a707e",
   "metadata": {
    "papermill": {
     "duration": 0.016529,
     "end_time": "2024-05-28T17:36:33.931462",
     "exception": false,
     "start_time": "2024-05-28T17:36:33.914933",
     "status": "completed"
    },
    "tags": []
   },
   "source": [
    "### 2.1 Data Cleaning and Manipulation - To make all users appear only once in the dataset"
   ]
  },
  {
   "cell_type": "code",
   "execution_count": 13,
   "id": "ef31630f",
   "metadata": {
    "papermill": {
     "duration": 0.029706,
     "end_time": "2024-05-28T17:36:34.298298",
     "exception": false,
     "start_time": "2024-05-28T17:36:34.268592",
     "status": "completed"
    },
    "tags": []
   },
   "outputs": [
    {
     "name": "stdout",
     "output_type": "stream",
     "text": [
      "Number of users that appear more than once: 3894\n"
     ]
    },
    {
     "data": {
      "text/plain": [
       "user_id\n",
       "805339    2\n",
       "754884    2\n",
       "722274    2\n",
       "783176    2\n",
       "898232    2\n",
       "Name: count, dtype: int64"
      ]
     },
     "execution_count": 13,
     "metadata": {},
     "output_type": "execute_result"
    }
   ],
   "source": [
    "df=raw_data\n",
    "# Count how many times each user_id appears in the dataset\n",
    "user_counts = df['user_id'].value_counts()\n",
    "\n",
    "# Filter to find users that appear more than once\n",
    "multiple_appearances = user_counts[user_counts > 1]\n",
    "\n",
    "# Display the number of users that appear more than once and the actual counts of their appearances\n",
    "multiple_appearances_count = len(multiple_appearances)\n",
    "print(f\"Number of users that appear more than once: {multiple_appearances_count}\")\n",
    "\n",
    "# Display the first few users who appear multiple times\n",
    "multiple_appearances.head()"
   ]
  },
  {
   "cell_type": "markdown",
   "id": "d773bb63-4dd5-4594-94e9-0ffadc7622c8",
   "metadata": {},
   "source": [
    "##### There are 3894 users appeared more than once, remove them from dataset"
   ]
  },
  {
   "cell_type": "code",
   "execution_count": 15,
   "id": "ad7ab647-05ce-463a-8555-042c39c0ef3a",
   "metadata": {},
   "outputs": [
    {
     "name": "stdout",
     "output_type": "stream",
     "text": [
      "Number of rows in the cleaned dataset: 286690\n"
     ]
    },
    {
     "data": {
      "text/html": [
       "<div>\n",
       "<style scoped>\n",
       "    .dataframe tbody tr th:only-of-type {\n",
       "        vertical-align: middle;\n",
       "    }\n",
       "\n",
       "    .dataframe tbody tr th {\n",
       "        vertical-align: top;\n",
       "    }\n",
       "\n",
       "    .dataframe thead th {\n",
       "        text-align: right;\n",
       "    }\n",
       "</style>\n",
       "<table border=\"1\" class=\"dataframe\">\n",
       "  <thead>\n",
       "    <tr style=\"text-align: right;\">\n",
       "      <th></th>\n",
       "      <th>user_id</th>\n",
       "      <th>timestamp</th>\n",
       "      <th>group</th>\n",
       "      <th>landing_page</th>\n",
       "      <th>converted</th>\n",
       "    </tr>\n",
       "  </thead>\n",
       "  <tbody>\n",
       "    <tr>\n",
       "      <th>0</th>\n",
       "      <td>851104</td>\n",
       "      <td>2017-01-21 22:11:48.556739</td>\n",
       "      <td>control</td>\n",
       "      <td>old_page</td>\n",
       "      <td>0</td>\n",
       "    </tr>\n",
       "    <tr>\n",
       "      <th>1</th>\n",
       "      <td>804228</td>\n",
       "      <td>2017-01-12 08:01:45.159739</td>\n",
       "      <td>control</td>\n",
       "      <td>old_page</td>\n",
       "      <td>0</td>\n",
       "    </tr>\n",
       "    <tr>\n",
       "      <th>2</th>\n",
       "      <td>661590</td>\n",
       "      <td>2017-01-11 16:55:06.154213</td>\n",
       "      <td>treatment</td>\n",
       "      <td>new_page</td>\n",
       "      <td>0</td>\n",
       "    </tr>\n",
       "    <tr>\n",
       "      <th>3</th>\n",
       "      <td>853541</td>\n",
       "      <td>2017-01-08 18:28:03.143765</td>\n",
       "      <td>treatment</td>\n",
       "      <td>new_page</td>\n",
       "      <td>0</td>\n",
       "    </tr>\n",
       "    <tr>\n",
       "      <th>4</th>\n",
       "      <td>864975</td>\n",
       "      <td>2017-01-21 01:52:26.210827</td>\n",
       "      <td>control</td>\n",
       "      <td>old_page</td>\n",
       "      <td>1</td>\n",
       "    </tr>\n",
       "  </tbody>\n",
       "</table>\n",
       "</div>"
      ],
      "text/plain": [
       "   user_id                   timestamp      group landing_page  converted\n",
       "0   851104  2017-01-21 22:11:48.556739    control     old_page          0\n",
       "1   804228  2017-01-12 08:01:45.159739    control     old_page          0\n",
       "2   661590  2017-01-11 16:55:06.154213  treatment     new_page          0\n",
       "3   853541  2017-01-08 18:28:03.143765  treatment     new_page          0\n",
       "4   864975  2017-01-21 01:52:26.210827    control     old_page          1"
      ]
     },
     "execution_count": 15,
     "metadata": {},
     "output_type": "execute_result"
    }
   ],
   "source": [
    "# Remove the users who appear more than once\n",
    "df_cleaned = df[~df['user_id'].isin(multiple_appearances.index)]\n",
    "\n",
    "# Display the number of rows in the cleaned dataset\n",
    "cleaned_rows_count = len(df_cleaned)\n",
    "print(f\"Number of rows in the cleaned dataset: {cleaned_rows_count}\")\n",
    "\n",
    "# Optionally, display the first few rows of the cleaned dataset\n",
    "df_cleaned.head()"
   ]
  },
  {
   "cell_type": "markdown",
   "id": "1613751e-2e91-463e-b5e0-f74b2f11e475",
   "metadata": {},
   "source": [
    "### 2.2 Data Cleaning and Manipulation - ensure all control group sees old page, and all treatment group sees new page"
   ]
  },
  {
   "cell_type": "code",
   "execution_count": 17,
   "id": "b2c5ee92",
   "metadata": {
    "papermill": {
     "duration": 0.05306,
     "end_time": "2024-05-28T17:36:34.002403",
     "exception": false,
     "start_time": "2024-05-28T17:36:33.949343",
     "status": "completed"
    },
    "tags": []
   },
   "outputs": [
    {
     "data": {
      "text/html": [
       "<div>\n",
       "<style scoped>\n",
       "    .dataframe tbody tr th:only-of-type {\n",
       "        vertical-align: middle;\n",
       "    }\n",
       "\n",
       "    .dataframe tbody tr th {\n",
       "        vertical-align: top;\n",
       "    }\n",
       "\n",
       "    .dataframe thead th {\n",
       "        text-align: right;\n",
       "    }\n",
       "</style>\n",
       "<table border=\"1\" class=\"dataframe\">\n",
       "  <thead>\n",
       "    <tr style=\"text-align: right;\">\n",
       "      <th>landing_page</th>\n",
       "      <th>new_page</th>\n",
       "      <th>old_page</th>\n",
       "    </tr>\n",
       "    <tr>\n",
       "      <th>group</th>\n",
       "      <th></th>\n",
       "      <th></th>\n",
       "    </tr>\n",
       "  </thead>\n",
       "  <tbody>\n",
       "    <tr>\n",
       "      <th>control</th>\n",
       "      <td>0</td>\n",
       "      <td>143293</td>\n",
       "    </tr>\n",
       "    <tr>\n",
       "      <th>treatment</th>\n",
       "      <td>143397</td>\n",
       "      <td>0</td>\n",
       "    </tr>\n",
       "  </tbody>\n",
       "</table>\n",
       "</div>"
      ],
      "text/plain": [
       "landing_page  new_page  old_page\n",
       "group                           \n",
       "control              0    143293\n",
       "treatment       143397         0"
      ]
     },
     "execution_count": 17,
     "metadata": {},
     "output_type": "execute_result"
    }
   ],
   "source": [
    "pd.crosstab(df_cleaned['group'], df_cleaned['landing_page'])"
   ]
  },
  {
   "cell_type": "markdown",
   "id": "70b8fefd-e15f-49ed-94c8-131a091eaf99",
   "metadata": {},
   "source": [
    "### 2.3 Sampling\n",
    "As calculated before sample size for each group `n=3532`, and we set `random_state=42`"
   ]
  },
  {
   "cell_type": "code",
   "execution_count": 19,
   "id": "3fd58c5d-4349-484a-b073-11ce15a12d3f",
   "metadata": {},
   "outputs": [
    {
     "name": "stdout",
     "output_type": "stream",
     "text": [
      "Number of rows in the sampled dataset: 7064\n"
     ]
    },
    {
     "data": {
      "text/html": [
       "<div>\n",
       "<style scoped>\n",
       "    .dataframe tbody tr th:only-of-type {\n",
       "        vertical-align: middle;\n",
       "    }\n",
       "\n",
       "    .dataframe tbody tr th {\n",
       "        vertical-align: top;\n",
       "    }\n",
       "\n",
       "    .dataframe thead th {\n",
       "        text-align: right;\n",
       "    }\n",
       "</style>\n",
       "<table border=\"1\" class=\"dataframe\">\n",
       "  <thead>\n",
       "    <tr style=\"text-align: right;\">\n",
       "      <th></th>\n",
       "      <th>user_id</th>\n",
       "      <th>timestamp</th>\n",
       "      <th>group</th>\n",
       "      <th>landing_page</th>\n",
       "      <th>converted</th>\n",
       "    </tr>\n",
       "  </thead>\n",
       "  <tbody>\n",
       "    <tr>\n",
       "      <th>0</th>\n",
       "      <td>663037</td>\n",
       "      <td>2017-01-05 02:13:38.063443</td>\n",
       "      <td>control</td>\n",
       "      <td>old_page</td>\n",
       "      <td>0</td>\n",
       "    </tr>\n",
       "    <tr>\n",
       "      <th>1</th>\n",
       "      <td>932826</td>\n",
       "      <td>2017-01-13 04:50:06.941679</td>\n",
       "      <td>control</td>\n",
       "      <td>old_page</td>\n",
       "      <td>1</td>\n",
       "    </tr>\n",
       "    <tr>\n",
       "      <th>2</th>\n",
       "      <td>922999</td>\n",
       "      <td>2017-01-04 07:19:23.813317</td>\n",
       "      <td>control</td>\n",
       "      <td>old_page</td>\n",
       "      <td>0</td>\n",
       "    </tr>\n",
       "    <tr>\n",
       "      <th>3</th>\n",
       "      <td>857826</td>\n",
       "      <td>2017-01-19 02:27:37.678241</td>\n",
       "      <td>control</td>\n",
       "      <td>old_page</td>\n",
       "      <td>0</td>\n",
       "    </tr>\n",
       "    <tr>\n",
       "      <th>4</th>\n",
       "      <td>762926</td>\n",
       "      <td>2017-01-18 17:50:59.261406</td>\n",
       "      <td>control</td>\n",
       "      <td>old_page</td>\n",
       "      <td>0</td>\n",
       "    </tr>\n",
       "  </tbody>\n",
       "</table>\n",
       "</div>"
      ],
      "text/plain": [
       "   user_id                   timestamp    group landing_page  converted\n",
       "0   663037  2017-01-05 02:13:38.063443  control     old_page          0\n",
       "1   932826  2017-01-13 04:50:06.941679  control     old_page          1\n",
       "2   922999  2017-01-04 07:19:23.813317  control     old_page          0\n",
       "3   857826  2017-01-19 02:27:37.678241  control     old_page          0\n",
       "4   762926  2017-01-18 17:50:59.261406  control     old_page          0"
      ]
     },
     "execution_count": 19,
     "metadata": {},
     "output_type": "execute_result"
    }
   ],
   "source": [
    "# Perform sampling by group, with 3532 observations from each group Control and Treatment\n",
    "ab_df = df_cleaned.groupby('group').apply(lambda x: x.sample(n=3532, random_state=42)).reset_index(drop=True)\n",
    "\n",
    "# Display the number of rows in the sampled dataset and the first few rows\n",
    "sampled_rows_count = len(ab_df)\n",
    "print(f\"Number of rows in the sampled dataset: {sampled_rows_count}\")\n",
    "\n",
    "# Optionally, display the first few rows of the sampled dataset\n",
    "ab_df.head()"
   ]
  },
  {
   "cell_type": "code",
   "execution_count": 20,
   "id": "0dd8b4d3-1e59-4ff8-b90e-752593053be8",
   "metadata": {},
   "outputs": [
    {
     "data": {
      "text/plain": [
       "group\n",
       "control      3532\n",
       "treatment    3532\n",
       "Name: count, dtype: int64"
      ]
     },
     "execution_count": 20,
     "metadata": {},
     "output_type": "execute_result"
    }
   ],
   "source": [
    "ab_df['group'].value_counts()"
   ]
  },
  {
   "cell_type": "markdown",
   "id": "745f9872-1d6d-4fa1-84b5-34e47fe6e299",
   "metadata": {},
   "source": [
    "## 3. EDA and Visualize A/B Comparison Results"
   ]
  },
  {
   "cell_type": "markdown",
   "id": "5b118049-cb0e-425f-9963-a82d09fef042",
   "metadata": {},
   "source": [
    "### 3.1 Basic Descriptive Statistics : Control group 11.41% conversion rate, Treatment Group 12.43% conversion rate"
   ]
  },
  {
   "cell_type": "code",
   "execution_count": 23,
   "id": "6007db2e",
   "metadata": {
    "papermill": {
     "duration": 0.032211,
     "end_time": "2024-05-28T17:36:34.612257",
     "exception": false,
     "start_time": "2024-05-28T17:36:34.580046",
     "status": "completed"
    },
    "tags": []
   },
   "outputs": [
    {
     "name": "stdout",
     "output_type": "stream",
     "text": [
      "group\n",
      "control      11.41%\n",
      "treatment    12.43%\n",
      "Name: converted, dtype: object\n"
     ]
    }
   ],
   "source": [
    "# Calculate the conversion rate by group and convert to percentages\n",
    "conversion_rate_by_group = ab_df.groupby('group')['converted'].mean() * 100\n",
    "\n",
    "# Display the conversion rates in percentage format\n",
    "conversion_rate_by_group = conversion_rate_by_group.round(2).astype(str) + '%'\n",
    "print(conversion_rate_by_group)"
   ]
  },
  {
   "cell_type": "code",
   "execution_count": 24,
   "id": "527f6b9b-9c31-43e4-a530-46931e9cdb14",
   "metadata": {},
   "outputs": [
    {
     "data": {
      "text/html": [
       "<div>\n",
       "<style scoped>\n",
       "    .dataframe tbody tr th:only-of-type {\n",
       "        vertical-align: middle;\n",
       "    }\n",
       "\n",
       "    .dataframe tbody tr th {\n",
       "        vertical-align: top;\n",
       "    }\n",
       "\n",
       "    .dataframe thead th {\n",
       "        text-align: right;\n",
       "    }\n",
       "</style>\n",
       "<table border=\"1\" class=\"dataframe\">\n",
       "  <thead>\n",
       "    <tr style=\"text-align: right;\">\n",
       "      <th></th>\n",
       "      <th>count</th>\n",
       "      <th>mean</th>\n",
       "      <th>std</th>\n",
       "      <th>min</th>\n",
       "      <th>25%</th>\n",
       "      <th>50%</th>\n",
       "      <th>75%</th>\n",
       "      <th>max</th>\n",
       "    </tr>\n",
       "    <tr>\n",
       "      <th>group</th>\n",
       "      <th></th>\n",
       "      <th></th>\n",
       "      <th></th>\n",
       "      <th></th>\n",
       "      <th></th>\n",
       "      <th></th>\n",
       "      <th></th>\n",
       "      <th></th>\n",
       "    </tr>\n",
       "  </thead>\n",
       "  <tbody>\n",
       "    <tr>\n",
       "      <th>control</th>\n",
       "      <td>3532.0</td>\n",
       "      <td>0.114100</td>\n",
       "      <td>0.317977</td>\n",
       "      <td>0.0</td>\n",
       "      <td>0.0</td>\n",
       "      <td>0.0</td>\n",
       "      <td>0.0</td>\n",
       "      <td>1.0</td>\n",
       "    </tr>\n",
       "    <tr>\n",
       "      <th>treatment</th>\n",
       "      <td>3532.0</td>\n",
       "      <td>0.124292</td>\n",
       "      <td>0.329961</td>\n",
       "      <td>0.0</td>\n",
       "      <td>0.0</td>\n",
       "      <td>0.0</td>\n",
       "      <td>0.0</td>\n",
       "      <td>1.0</td>\n",
       "    </tr>\n",
       "  </tbody>\n",
       "</table>\n",
       "</div>"
      ],
      "text/plain": [
       "            count      mean       std  min  25%  50%  75%  max\n",
       "group                                                         \n",
       "control    3532.0  0.114100  0.317977  0.0  0.0  0.0  0.0  1.0\n",
       "treatment  3532.0  0.124292  0.329961  0.0  0.0  0.0  0.0  1.0"
      ]
     },
     "execution_count": 24,
     "metadata": {},
     "output_type": "execute_result"
    }
   ],
   "source": [
    "ab_df.groupby('group')['converted'].describe()"
   ]
  },
  {
   "cell_type": "code",
   "execution_count": 25,
   "id": "9764fa55-e2e7-41bc-b787-f6b1ae3ecdfc",
   "metadata": {},
   "outputs": [
    {
     "data": {
      "image/png": "[encoded data removed]",
      "text/plain": [
       "<Figure size 640x480 with 1 Axes>"
      ]
     },
     "metadata": {},
     "output_type": "display_data"
    }
   ],
   "source": [
    "import matplotlib.pyplot as plt\n",
    "conversion_rate_by_group = ab_df.groupby('group')['converted'].mean() * 100\n",
    "conversion_rate_by_group.plot(kind='bar', color=['skyblue', 'orange'])\n",
    "plt.title('Conversion Rate by Group')\n",
    "plt.ylabel('Conversion Rate (%)')\n",
    "plt.show()"
   ]
  },
  {
   "cell_type": "markdown",
   "id": "3e32ce86-5ac1-4ffa-9230-5010da4c92df",
   "metadata": {},
   "source": [
    "### 3.2 Distribution of Converted and Not Converted Users"
   ]
  },
  {
   "cell_type": "code",
   "execution_count": 27,
   "id": "5eb256b6-5788-4f64-a275-14a853c0c3cf",
   "metadata": {},
   "outputs": [
    {
     "data": {
      "image/png": "[encoded data removed]",
      "text/plain": [
       "<Figure size 640x480 with 1 Axes>"
      ]
     },
     "metadata": {},
     "output_type": "display_data"
    }
   ],
   "source": [
    "ab_df.groupby(['group', 'converted']).size().unstack().plot(kind='bar', stacked=True)\n",
    "plt.title('Distribution of Conversions by Group')\n",
    "plt.ylabel('Number of Users')\n",
    "plt.show()"
   ]
  },
  {
   "cell_type": "markdown",
   "id": "a477e1a6-65f2-4a29-b53c-75ab21f1f9d7",
   "metadata": {},
   "source": [
    "### 3.3 Conversion Rate Over Time"
   ]
  },
  {
   "cell_type": "code",
   "execution_count": 29,
   "id": "d9d2848d-0863-421e-87c2-b7982bf5ffed",
   "metadata": {},
   "outputs": [
    {
     "data": {
      "image/png": "[encoded data removed]",
      "text/plain": [
       "<Figure size 640x480 with 1 Axes>"
      ]
     },
     "metadata": {},
     "output_type": "display_data"
    }
   ],
   "source": [
    "ab_df['date'] = pd.to_datetime(ab_df['timestamp']).dt.date\n",
    "conversion_by_date = ab_df.groupby(['date', 'group'])['converted'].mean().unstack() * 100\n",
    "conversion_by_date.plot()\n",
    "plt.title('Conversion Rate Over Time by Group')\n",
    "plt.ylabel('Conversion Rate (%)')\n",
    "plt.xlabel('Date')\n",
    "plt.show()"
   ]
  },
  {
   "cell_type": "code",
   "execution_count": 30,
   "id": "ac100a23-23d0-4dd8-bcd7-00bc0e718086",
   "metadata": {},
   "outputs": [
    {
     "data": {
      "text/html": [
       "<div>\n",
       "<style scoped>\n",
       "    .dataframe tbody tr th:only-of-type {\n",
       "        vertical-align: middle;\n",
       "    }\n",
       "\n",
       "    .dataframe tbody tr th {\n",
       "        vertical-align: top;\n",
       "    }\n",
       "\n",
       "    .dataframe thead th {\n",
       "        text-align: right;\n",
       "    }\n",
       "</style>\n",
       "<table border=\"1\" class=\"dataframe\">\n",
       "  <thead>\n",
       "    <tr style=\"text-align: right;\">\n",
       "      <th>converted</th>\n",
       "      <th>0</th>\n",
       "      <th>1</th>\n",
       "      <th>All</th>\n",
       "    </tr>\n",
       "    <tr>\n",
       "      <th>group</th>\n",
       "      <th></th>\n",
       "      <th></th>\n",
       "      <th></th>\n",
       "    </tr>\n",
       "  </thead>\n",
       "  <tbody>\n",
       "    <tr>\n",
       "      <th>control</th>\n",
       "      <td>3129</td>\n",
       "      <td>403</td>\n",
       "      <td>3532</td>\n",
       "    </tr>\n",
       "    <tr>\n",
       "      <th>treatment</th>\n",
       "      <td>3093</td>\n",
       "      <td>439</td>\n",
       "      <td>3532</td>\n",
       "    </tr>\n",
       "    <tr>\n",
       "      <th>All</th>\n",
       "      <td>6222</td>\n",
       "      <td>842</td>\n",
       "      <td>7064</td>\n",
       "    </tr>\n",
       "  </tbody>\n",
       "</table>\n",
       "</div>"
      ],
      "text/plain": [
       "converted     0    1   All\n",
       "group                     \n",
       "control    3129  403  3532\n",
       "treatment  3093  439  3532\n",
       "All        6222  842  7064"
      ]
     },
     "execution_count": 30,
     "metadata": {},
     "output_type": "execute_result"
    }
   ],
   "source": [
    "pd.crosstab(ab_df['group'], ab_df['converted'], margins=True)"
   ]
  },
  {
   "cell_type": "markdown",
   "id": "5bf9d04d-dddb-447f-805f-58877162d1c9",
   "metadata": {},
   "source": [
    "## 4. Statistical Analysis"
   ]
  },
  {
   "cell_type": "markdown",
   "id": "0b51feba-cce3-4591-be45-45c5f7470505",
   "metadata": {},
   "source": [
    "### 4.1 Z-Test (Proportions Z-Test)\n",
    "#### The Z-test for proportions compares the conversion rates of two groups (control vs. treatment). The p-value here is derived from the Z-statistic, which measures how far the observed difference between the groups is from the expected difference under the null hypothesis."
   ]
  },
  {
   "cell_type": "code",
   "execution_count": 33,
   "id": "96ac9ee8-6da7-455d-9a7e-ace574224ba8",
   "metadata": {},
   "outputs": [
    {
     "name": "stdout",
     "output_type": "stream",
     "text": [
      "P-value (Z-test): 0.18619314594479486\n"
     ]
    }
   ],
   "source": [
    "from statsmodels.stats.proportion import proportions_ztest\n",
    "\n",
    "# Number of conversions and total observations in each group\n",
    "convert_control = ab_df[ab_df['group'] == 'control']['converted'].sum()\n",
    "n_control = ab_df[ab_df['group'] == 'control']['converted'].count()\n",
    "\n",
    "convert_treatment = ab_df[ab_df['group'] == 'treatment']['converted'].sum()\n",
    "n_treatment = ab_df[ab_df['group'] == 'treatment']['converted'].count()\n",
    "\n",
    "# Z-test\n",
    "z_stat, p_value_z = proportions_ztest([convert_control, convert_treatment], [n_control, n_treatment])\n",
    "\n",
    "# Display p-value\n",
    "print(f\"P-value (Z-test): {p_value_z}\")"
   ]
  },
  {
   "cell_type": "markdown",
   "id": "c29aa557-10fd-4e8e-8c53-7c95dad20bf9",
   "metadata": {},
   "source": [
    "### 4.2 T-Test (Two-Sample T-Test)\n",
    "#### The T-test compares the means of two independent groups (in this case, the conversion rates of control and treatment groups) when the sample sizes are small or the population variances are unknown. The p-value in a T-test is derived from the T-statistic, which is calculated based on the means, variances, and sample sizes of both groups."
   ]
  },
  {
   "cell_type": "code",
   "execution_count": 35,
   "id": "6a683e9e-d3bb-41e5-8d59-29ac6c5c85fc",
   "metadata": {},
   "outputs": [
    {
     "name": "stdout",
     "output_type": "stream",
     "text": [
      "P-value (T-test): 0.18624383323221733\n"
     ]
    }
   ],
   "source": [
    "from scipy import stats\n",
    "\n",
    "# Conversion data for control and treatment groups\n",
    "control = ab_df[ab_df['group'] == 'control']['converted']\n",
    "treatment = ab_df[ab_df['group'] == 'treatment']['converted']\n",
    "\n",
    "# Two-sample T-test\n",
    "t_stat, p_value_t = stats.ttest_ind(control, treatment)\n",
    "\n",
    "# Display p-value\n",
    "print(f\"P-value (T-test): {p_value_t}\")"
   ]
  },
  {
   "cell_type": "markdown",
   "id": "08bc8d52-ecf3-417b-b111-60ca4c81d666",
   "metadata": {},
   "source": [
    "### 4.3  Chi-Square Test\n",
    "#### The Chi-Square test is used to assess whether there is a relationship between two categorical variables—in this case, the group (control vs. treatment) and whether or not the user converted (0 or 1). The p-value for the Chi-Square test is derived from the Chi-Square statistic."
   ]
  },
  {
   "cell_type": "code",
   "execution_count": 37,
   "id": "cb3598c7-d830-46cb-b58f-92063d150918",
   "metadata": {},
   "outputs": [
    {
     "name": "stdout",
     "output_type": "stream",
     "text": [
      "P-value (Chi-Square): 0.19872072507362332\n"
     ]
    }
   ],
   "source": [
    "from scipy.stats import chi2_contingency\n",
    "\n",
    "# Create a contingency table for the Chi-Square test\n",
    "contingency_table = pd.crosstab(ab_df['group'], ab_df['converted'])\n",
    "\n",
    "# Perform the Chi-Square test\n",
    "chi2_stat, p_value_chi, dof, expected = chi2_contingency(contingency_table)\n",
    "\n",
    "# Display p-value\n",
    "print(f\"P-value (Chi-Square): {p_value_chi}\")"
   ]
  },
  {
   "cell_type": "markdown",
   "id": "5caf530d-6089-40fd-af42-2c036b0b2b78",
   "metadata": {},
   "source": [
    "## 5 Conclusion\n",
    "\n",
    "#### Given that the control group has a conversion rate of 11.41% and the treatment group has a conversion rate of 12.43%, but the p-values from the Z-test, T-test, and Chi-Square test all indicate non-significant results (p-values greater than 0.05), here’s a more detailed insight:\n",
    "\n",
    "\n",
    "### 1. **Z-Test P-value: 0.186**\n",
    "- **What it Means**: The Z-test compares the conversion rates of the control and treatment groups. The p-value of **0.186** is greater than the standard alpha level of **0.05**, indicating that the difference in conversion rates between the control (11.41%) and treatment (12.43%) groups is **not statistically significant**.\n",
    "  \n",
    "- **Conclusion**: The Z-test suggests that the observed difference in conversion rates could be due to random chance, and there's no strong statistical evidence to conclude that the treatment group (new landing page) performs better than the control group (old landing page).\n",
    "\n",
    "### 2. **T-Test P-value: 0.186**\n",
    "- **What it Means**: The T-test is used to compare the means (in this case, the conversion rates) between the two independent groups (control and treatment). The p-value of **0.186** is again higher than the alpha level of **0.05**, suggesting **no significant difference** between the groups.\n",
    "  \n",
    "- **Conclusion**: Like the Z-test, the T-test also indicates that the difference between the conversion rates of the control and treatment groups is likely due to random variation, and we **fail to reject the null hypothesis**. The new landing page does not significantly impact conversions.\n",
    "\n",
    "### 3. **Chi-Square Test P-value: 0.199**\n",
    "- **What it Means**: The test is used when both variables being analyzed are categorical. For example, in A/B testing, one categorical variable might be the group (control vs. treatment), and the other might be conversion (converted vs. not converted). The p-value of **0.199** is also greater than **0.05**, indicating that the difference in conversions between the control and treatment groups is **not statistically significant**. There is **no relationship** between variables (eg.group and conversion).\n",
    "  \n",
    "- **Conclusion**: The Chi-Square test, like the Z-test and T-test, indicates that the assignment to the control or treatment group does not have a significant effect on conversion rates. The observed difference in conversion rates (11.41% vs. 12.43%) is not statistically significant.\n",
    "\n",
    "---\n",
    "\n",
    "### **General Insights Based on All Tests:**\n",
    "\n",
    "1. **P-Values Above 0.05**:\n",
    "   - All the tests (Z-test, T-test, and Chi-Square) have **p-values above 0.05**. This means that the observed difference in conversion rates between the control and treatment groups is **not statistically significant**.\n",
    "   - As a result, we **fail to reject the null hypothesis**. The null hypothesis states that there is no difference in conversion rates between the control group (old landing page) and the treatment group (new landing page). The tests suggest that any observed difference (11.41% vs. 12.43%) is likely due to random chance.\n",
    "\n",
    "2. **Practical Significance vs. Statistical Significance**:\n",
    "   - While the treatment group has a **1.02% higher conversion rate** (12.43% compared to 11.41%), the **p-values indicate that this difference is not statistically significant**. \n",
    "   - From a business perspective, a **1% increase** in conversion rate could be important, especially if you have a large user base. However, without statistical significance, we cannot confidently say that the new landing page is better than the old one.\n",
    "\n",
    "3. **Lack of Evidence for Treatment Effect**:\n",
    "   - The p-values from all three tests suggest that there is **insufficient evidence** to conclude that the new landing page has a positive impact on conversions. Any observed improvement could be attributed to random variability rather than a true effect of the new design.\n",
    "\n",
    "---\n",
    "\n",
    "### **Next Steps:**\n",
    "\n",
    "1. **Consider Increasing the Sample Size**:\n",
    "   - If you believe that even a small difference in conversion rates (like the 1.02% increase) is important, consider running the test with a **larger sample size**. A larger sample size increases the statistical power of the test, potentially detecting smaller but meaningful effects.\n",
    "\n",
    "2. **Test Other Variants**:\n",
    "   - If the new page design doesn’t seem to be driving conversions, you might want to consider testing other elements of the page, such as headlines, images, or call-to-action buttons, to see if they have a more significant impact on conversion rates.\n",
    "\n",
    "3. **Explore Other Metrics**:\n",
    "   - Besides conversion rates, consider analyzing other metrics, such as **user engagement**, **bounce rate**, or **time spent on the page**. It’s possible that the new design has positive effects on these metrics, even if it doesn’t directly improve conversions.\n",
    "\n",
    "---\n",
    "\n",
    "### **Final Takeaway**:\n",
    "While the treatment group shows a higher conversion rate than the control group (12.43% vs. 11.41%), the p-values indicate that this difference is not statistically significant. The new landing page does **not have a statistically significant impact** on conversion rates compared to the old page. The difference observed between the control and treatment groups is likely due to chance, and there’s no strong evidence to suggest that the new design outperforms the old one in terms of conversions.\n",
    "\n",
    "\n",
    "\n",
    "\n",
    "\n",
    "\n",
    "\n",
    "\n",
    "\n"
   ]
  },
  {
   "cell_type": "code",
   "execution_count": null,
   "id": "be762233-6764-49f6-bdcf-d6857cdf64a7",
   "metadata": {},
   "outputs": [],
   "source": []
  },
  {
   "cell_type": "code",
   "execution_count": null,
   "id": "159d82d4-02f2-418e-b3b1-95dd71644e0f",
   "metadata": {},
   "outputs": [],
   "source": []
  },
  {
   "cell_type": "code",
   "execution_count": null,
   "id": "68d30047-4065-426a-b774-72990dc61cb0",
   "metadata": {},
   "outputs": [],
   "source": []
  },
  {
   "cell_type": "code",
   "execution_count": null,
   "id": "ff329ca9-cba9-49f6-9619-0d84d2eeabbd",
   "metadata": {},
   "outputs": [],
   "source": []
  },
  {
   "cell_type": "code",
   "execution_count": null,
   "id": "ca9e00de-4a3d-4962-b18c-32a435c79061",
   "metadata": {},
   "outputs": [],
   "source": []
  }
 ],
 "metadata": {
  "kaggle": {
   "accelerator": "none",
   "dataSources": [
    {
     "datasetId": 3714414,
     "sourceId": 6436332,
     "sourceType": "datasetVersion"
    }
   ],
   "dockerImageVersionId": 30698,
   "isGpuEnabled": false,
   "isInternetEnabled": true,
   "language": "python",
   "sourceType": "notebook"
  },
  "kernelspec": {
   "display_name": "Python 3 (ipykernel)",
   "language": "python",
   "name": "python3"
  },
  "language_info": {
   "codemirror_mode": {
    "name": "ipython",
    "version": 3
   },
   "file_extension": ".py",
   "mimetype": "text/x-python",
   "name": "python",
   "nbconvert_exporter": "python",
   "pygments_lexer": "ipython3",
   "version": "3.12.4"
  },
  "papermill": {
   "default_parameters": {},
   "duration": 35.237204,
   "end_time": "2024-05-28T17:37:02.837120",
   "environment_variables": {},
   "exception": null,
   "input_path": "__notebook__.ipynb",
   "output_path": "__notebook__.ipynb",
   "parameters": {},
   "start_time": "2024-05-28T17:36:27.599916",
   "version": "2.5.0"
  }
 },
 "nbformat": 4,
 "nbformat_minor": 5
}
